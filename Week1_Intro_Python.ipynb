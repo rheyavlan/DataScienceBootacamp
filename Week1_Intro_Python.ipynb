{
  "nbformat": 4,
  "nbformat_minor": 0,
  "metadata": {
    "colab": {
      "name": "Week1:Intro-Python.ipynb",
      "provenance": [],
      "toc_visible": true
    },
    "kernelspec": {
      "name": "python3",
      "display_name": "Python 3"
    },
    "language_info": {
      "name": "python"
    }
  },
  "cells": [
    {
      "cell_type": "markdown",
      "metadata": {
        "id": "7SjRpRssC2e-"
      },
      "source": [
        "# Introduction to Python"
      ]
    },
    {
      "cell_type": "code",
      "metadata": {
        "colab": {
          "base_uri": "https://localhost:8080/"
        },
        "id": "B3-JWyWzCwrm",
        "outputId": "6f9f38a6-dc37-4d2e-cbb1-f41a7934deac"
      },
      "source": [
        "print('Hello, world!')"
      ],
      "execution_count": null,
      "outputs": [
        {
          "output_type": "stream",
          "text": [
            "Hello, world!\n"
          ],
          "name": "stdout"
        }
      ]
    },
    {
      "cell_type": "markdown",
      "metadata": {
        "id": "TI2v4cRlDXaK"
      },
      "source": [
        "## Just for fun!\n",
        "\n",
        "Did you know that entering `import this` prints the 'Zen of Python'?\n",
        "\n",
        "The Zen of Python is a collection of 19 \"guiding principles\" for writing computer programs that influence the design of the Python programming language.\n",
        "\n",
        "It is always good to follow the zen even when you have an opportunity to show off your Python skills! :)"
      ]
    },
    {
      "cell_type": "code",
      "metadata": {
        "colab": {
          "base_uri": "https://localhost:8080/"
        },
        "id": "wx9lQCM0DfmX",
        "outputId": "b19262b0-bb90-442f-e29c-ab4df1cf95ef"
      },
      "source": [
        "import this"
      ],
      "execution_count": null,
      "outputs": [
        {
          "output_type": "stream",
          "text": [
            "The Zen of Python, by Tim Peters\n",
            "\n",
            "Beautiful is better than ugly.\n",
            "Explicit is better than implicit.\n",
            "Simple is better than complex.\n",
            "Complex is better than complicated.\n",
            "Flat is better than nested.\n",
            "Sparse is better than dense.\n",
            "Readability counts.\n",
            "Special cases aren't special enough to break the rules.\n",
            "Although practicality beats purity.\n",
            "Errors should never pass silently.\n",
            "Unless explicitly silenced.\n",
            "In the face of ambiguity, refuse the temptation to guess.\n",
            "There should be one-- and preferably only one --obvious way to do it.\n",
            "Although that way may not be obvious at first unless you're Dutch.\n",
            "Now is better than never.\n",
            "Although never is often better than *right* now.\n",
            "If the implementation is hard to explain, it's a bad idea.\n",
            "If the implementation is easy to explain, it may be a good idea.\n",
            "Namespaces are one honking great idea -- let's do more of those!\n"
          ],
          "name": "stdout"
        }
      ]
    },
    {
      "cell_type": "markdown",
      "metadata": {
        "id": "ZPcJ_rESHwum"
      },
      "source": [
        "## The `help()` function\n",
        "\n",
        "The `help()` function in python is used to display the documentation of modules, functions, classes, etc.\n"
      ]
    },
    {
      "cell_type": "code",
      "metadata": {
        "colab": {
          "base_uri": "https://localhost:8080/"
        },
        "id": "44SQH6V9DgVV",
        "outputId": "97531b42-e1ed-420d-95dc-1394b5d67434"
      },
      "source": [
        "# help([object])\n",
        "\n",
        "help(print)"
      ],
      "execution_count": null,
      "outputs": [
        {
          "output_type": "stream",
          "text": [
            "Help on built-in function print in module builtins:\n",
            "\n",
            "print(...)\n",
            "    print(value, ..., sep=' ', end='\\n', file=sys.stdout, flush=False)\n",
            "    \n",
            "    Prints the values to a stream, or to sys.stdout by default.\n",
            "    Optional keyword arguments:\n",
            "    file:  a file-like object (stream); defaults to the current sys.stdout.\n",
            "    sep:   string inserted between values, default a space.\n",
            "    end:   string appended after the last value, default a newline.\n",
            "    flush: whether to forcibly flush the stream.\n",
            "\n"
          ],
          "name": "stdout"
        }
      ]
    },
    {
      "cell_type": "markdown",
      "metadata": {
        "id": "AypvTz1OJgEv"
      },
      "source": [
        "**NOTE:** If the `help()` function is passed without an argument,then the interactive help utility starts up on the console."
      ]
    },
    {
      "cell_type": "markdown",
      "metadata": {
        "id": "U2Gx61gZJ5oj"
      },
      "source": [
        "## Accessing the Attributes (/Methods) of any object\n",
        "\n",
        "In order to understand the pre-loaded attributes of an object, we use the `dir()` function."
      ]
    },
    {
      "cell_type": "code",
      "metadata": {
        "colab": {
          "base_uri": "https://localhost:8080/"
        },
        "id": "HVLY2TTyJuYy",
        "outputId": "9c8a7c75-333e-4e75-ba42-3809f6f58305"
      },
      "source": [
        "# import [library]\n",
        "# dir([library])\n",
        "\n",
        "import math\n",
        "dir(math)"
      ],
      "execution_count": null,
      "outputs": [
        {
          "output_type": "execute_result",
          "data": {
            "text/plain": [
              "['__doc__',\n",
              " '__loader__',\n",
              " '__name__',\n",
              " '__package__',\n",
              " '__spec__',\n",
              " 'acos',\n",
              " 'acosh',\n",
              " 'asin',\n",
              " 'asinh',\n",
              " 'atan',\n",
              " 'atan2',\n",
              " 'atanh',\n",
              " 'ceil',\n",
              " 'copysign',\n",
              " 'cos',\n",
              " 'cosh',\n",
              " 'degrees',\n",
              " 'e',\n",
              " 'erf',\n",
              " 'erfc',\n",
              " 'exp',\n",
              " 'expm1',\n",
              " 'fabs',\n",
              " 'factorial',\n",
              " 'floor',\n",
              " 'fmod',\n",
              " 'frexp',\n",
              " 'fsum',\n",
              " 'gamma',\n",
              " 'gcd',\n",
              " 'hypot',\n",
              " 'inf',\n",
              " 'isclose',\n",
              " 'isfinite',\n",
              " 'isinf',\n",
              " 'isnan',\n",
              " 'ldexp',\n",
              " 'lgamma',\n",
              " 'log',\n",
              " 'log10',\n",
              " 'log1p',\n",
              " 'log2',\n",
              " 'modf',\n",
              " 'nan',\n",
              " 'pi',\n",
              " 'pow',\n",
              " 'radians',\n",
              " 'remainder',\n",
              " 'sin',\n",
              " 'sinh',\n",
              " 'sqrt',\n",
              " 'tan',\n",
              " 'tanh',\n",
              " 'tau',\n",
              " 'trunc']"
            ]
          },
          "metadata": {
            "tags": []
          },
          "execution_count": 4
        }
      ]
    },
    {
      "cell_type": "markdown",
      "metadata": {
        "id": "RKJPIBVeQ-Rr"
      },
      "source": [
        "## Understanding data types in Python\n",
        "\n",
        "Python has the following data types built-in by default:\n",
        "\n",
        "Text: `str`\n",
        "\n",
        "Numeric: `int`, `float`, `complex`\n",
        "\n",
        "Sequence: `list`, `tuple`, `range`\n",
        "\n",
        "Mapping: `dict`\n",
        "\n",
        "Set: `set`, `frozenset`\n",
        "\n",
        "Boolean: `bool`\n",
        "\n",
        "Binary: `bytes`, `bytearray`, `memoryview`"
      ]
    },
    {
      "cell_type": "code",
      "metadata": {
        "colab": {
          "base_uri": "https://localhost:8080/"
        },
        "id": "jWGwNMZ3SfpC",
        "outputId": "55521d7b-3881-4aff-e574-d76a17d10e03"
      },
      "source": [
        "# type(variable) prints the data type of the variable. In this case, string\n",
        "\n",
        "name = 'John ' + 'Smith'\n",
        "print(name)\n",
        "print(type(name))"
      ],
      "execution_count": null,
      "outputs": [
        {
          "output_type": "stream",
          "text": [
            "John Smith\n",
            "<class 'str'>\n"
          ],
          "name": "stdout"
        }
      ]
    },
    {
      "cell_type": "markdown",
      "metadata": {
        "id": "c9H2KIZrTP8x"
      },
      "source": [
        "**NOTE:** The initialization of datat type to a particular variable happens automaticaly when we assign a value to a variable."
      ]
    },
    {
      "cell_type": "code",
      "metadata": {
        "colab": {
          "base_uri": "https://localhost:8080/"
        },
        "id": "zd7DOnqVSyNv",
        "outputId": "e29eb5b4-04b7-446a-ad24-7d9a58344a97"
      },
      "source": [
        "# class integer\n",
        "\n",
        "x = 10\n",
        "print(x)\n",
        "\n",
        "print(type(x))"
      ],
      "execution_count": null,
      "outputs": [
        {
          "output_type": "stream",
          "text": [
            "10\n",
            "<class 'int'>\n"
          ],
          "name": "stdout"
        }
      ]
    },
    {
      "cell_type": "code",
      "metadata": {
        "colab": {
          "base_uri": "https://localhost:8080/"
        },
        "id": "li1jP3axTX-l",
        "outputId": "2a0a0b7d-bc8d-46b9-daf9-1348e675b6f8"
      },
      "source": [
        "# class float\n",
        "\n",
        "decimal = 0.00\n",
        "print(decimal)\n",
        "print(type(decimal))"
      ],
      "execution_count": null,
      "outputs": [
        {
          "output_type": "stream",
          "text": [
            "0.0\n",
            "<class 'float'>\n"
          ],
          "name": "stdout"
        }
      ]
    },
    {
      "cell_type": "code",
      "metadata": {
        "colab": {
          "base_uri": "https://localhost:8080/"
        },
        "id": "IUflSg0FTjcG",
        "outputId": "6f245f32-ac52-40c6-bd40-3f874211528f"
      },
      "source": [
        "# class list\n",
        "\n",
        "groceries = ['apples', 'kiwis', 'milk', 'eggs']\n",
        "\n",
        "print(groceries)\n",
        "print(type(groceries))"
      ],
      "execution_count": null,
      "outputs": [
        {
          "output_type": "stream",
          "text": [
            "['apples', 'kiwis', 'milk', 'eggs']\n",
            "<class 'list'>\n"
          ],
          "name": "stdout"
        }
      ]
    },
    {
      "cell_type": "code",
      "metadata": {
        "colab": {
          "base_uri": "https://localhost:8080/"
        },
        "id": "ZqWeUPXVT2J4",
        "outputId": "6b615c2e-2b11-4a5c-af16-4c96d8e8bc5d"
      },
      "source": [
        "# class list, but tuples\n",
        "\n",
        "a = [(1, 2), (3, 4, 5), (6, 7)]\n",
        "print(a)\n",
        "\n",
        "print(type(a))"
      ],
      "execution_count": null,
      "outputs": [
        {
          "output_type": "stream",
          "text": [
            "[(1, 2), (3, 4, 5), (6, 7)]\n",
            "<class 'list'>\n"
          ],
          "name": "stdout"
        }
      ]
    },
    {
      "cell_type": "code",
      "metadata": {
        "colab": {
          "base_uri": "https://localhost:8080/"
        },
        "id": "JqynSwC0ULb_",
        "outputId": "35d76c9e-6b3e-439e-e5c7-03b1b5dfa963"
      },
      "source": [
        "# class set\n",
        "\n",
        "sets = set((10, 2, 53, 15))\n",
        "print(sets)\n",
        "print(type(sets))"
      ],
      "execution_count": null,
      "outputs": [
        {
          "output_type": "stream",
          "text": [
            "{10, 2, 53, 15}\n",
            "<class 'set'>\n"
          ],
          "name": "stdout"
        }
      ]
    },
    {
      "cell_type": "code",
      "metadata": {
        "colab": {
          "base_uri": "https://localhost:8080/"
        },
        "id": "tzzxfQLIUTc5",
        "outputId": "92e1a794-ad2b-4944-a381-0227d09ab183"
      },
      "source": [
        "# class dictionary\n",
        "\n",
        "hpc = {'Harry': '10', None:'Headmaster', 'Snape':'Dark Arts'}\n",
        "\n",
        "print(hpc)\n",
        "print(type(hpc))"
      ],
      "execution_count": null,
      "outputs": [
        {
          "output_type": "stream",
          "text": [
            "{'Harry': '10', None: 'Headmaster', 'Snape': 'Dark Arts'}\n",
            "<class 'dict'>\n"
          ],
          "name": "stdout"
        }
      ]
    },
    {
      "cell_type": "code",
      "metadata": {
        "colab": {
          "base_uri": "https://localhost:8080/"
        },
        "id": "lE-8ouBSUySo",
        "outputId": "6d032cb1-4f65-4648-b3c2-fa2722bbe6bc"
      },
      "source": [
        "# class boolean\n",
        "\n",
        "boolean = True\n",
        "print('Boolean: ', boolean)\n",
        "print('Boolean from another data type', bool(decimal))"
      ],
      "execution_count": null,
      "outputs": [
        {
          "output_type": "stream",
          "text": [
            "Boolean:  True\n",
            "Boolean from another data type False\n"
          ],
          "name": "stdout"
        }
      ]
    },
    {
      "cell_type": "code",
      "metadata": {
        "colab": {
          "base_uri": "https://localhost:8080/"
        },
        "id": "K6lHW02cVC6f",
        "outputId": "47472bf1-d34e-4717-ed75-09f861fde72e"
      },
      "source": [
        "#None type\n",
        "\n",
        "none_type = None\n",
        "\n",
        "print(type(none_type))"
      ],
      "execution_count": null,
      "outputs": [
        {
          "output_type": "stream",
          "text": [
            "<class 'NoneType'>\n"
          ],
          "name": "stdout"
        }
      ]
    },
    {
      "cell_type": "markdown",
      "metadata": {
        "id": "43k3bdBWVLdl"
      },
      "source": [
        "## Commonly used operators in Python"
      ]
    },
    {
      "cell_type": "code",
      "metadata": {
        "colab": {
          "base_uri": "https://localhost:8080/"
        },
        "id": "hRgFK9ZzVFrp",
        "outputId": "cf53ddf4-2d4a-41c7-c5a9-cf285e258dec"
      },
      "source": [
        "a = 5.5\n",
        "b = 3.2\n",
        "\n",
        "print('Add: ', a+b)\n",
        "print('Subtract: ', a-b)\n",
        "print('Divide: ', a/b)    # returns the value in float\n",
        "print('Multiply: ', a*b)\n",
        "print('Floor Division: ',a//b)\n",
        "print('Mod: ', a%b)       # returns the value in integer\n",
        "print('Power: ', a**b)"
      ],
      "execution_count": null,
      "outputs": [
        {
          "output_type": "stream",
          "text": [
            "Add:  8.7\n",
            "Subtract:  2.3\n",
            "Divide:  1.71875\n",
            "Multiply:  17.6\n",
            "Floor Division:  1.0\n",
            "Mod:  2.3\n",
            "Power:  233.97023236799288\n"
          ],
          "name": "stdout"
        }
      ]
    },
    {
      "cell_type": "markdown",
      "metadata": {
        "id": "epgvbOtWVuId"
      },
      "source": [
        "### A few tricks"
      ]
    },
    {
      "cell_type": "code",
      "metadata": {
        "colab": {
          "base_uri": "https://localhost:8080/"
        },
        "id": "NB9-F6tCVpMO",
        "outputId": "0381d1dc-56f3-499e-8088-9df176dde503"
      },
      "source": [
        "# swapping two variables\n",
        "\n",
        "a = 10\n",
        "b = 6\n",
        "c = '21'\n",
        "\n",
        "print('a and b before swap: ', a, b, c)\n",
        "\n",
        "a, b, c = b, c, a\n",
        "print('a and b after swap: ', a, b, c)"
      ],
      "execution_count": null,
      "outputs": [
        {
          "output_type": "stream",
          "text": [
            "a and b before swap:  10 6 21\n",
            "a and b after swap:  6 21 10\n"
          ],
          "name": "stdout"
        }
      ]
    },
    {
      "cell_type": "code",
      "metadata": {
        "colab": {
          "base_uri": "https://localhost:8080/"
        },
        "id": "SyWaqfHhV6L5",
        "outputId": "81671325-5537-4894-f000-89bfb604b3ae"
      },
      "source": [
        "a , *b = 6 , 10 , 21\n",
        "\n",
        "print('a would be: ', a)\n",
        "print(type(a))\n",
        "\n",
        "print('\\nb would be: ', b)\n",
        "print(type(b))"
      ],
      "execution_count": null,
      "outputs": [
        {
          "output_type": "stream",
          "text": [
            "a would be:  6\n",
            "<class 'int'>\n",
            "\n",
            "b would be:  [10, 21]\n",
            "<class 'list'>\n"
          ],
          "name": "stdout"
        }
      ]
    },
    {
      "cell_type": "markdown",
      "metadata": {
        "id": "8ttnUtpLWg5W"
      },
      "source": [
        "## Type casting in Python\n",
        "\n",
        "Type Casting is the method to convert the variable data type into a certain data type in order for the operation required to be performed by users."
      ]
    },
    {
      "cell_type": "code",
      "metadata": {
        "colab": {
          "base_uri": "https://localhost:8080/"
        },
        "id": "SzT49t-NWMuS",
        "outputId": "7d1fd3f3-1ce6-4b1e-f723-f8c105566514"
      },
      "source": [
        "# switching from string to integer\n",
        "\n",
        "x = '10'\n",
        "print(type(x))\n",
        "print('integer typecasted is: ', int(x))\n",
        "print(type(x))"
      ],
      "execution_count": null,
      "outputs": [
        {
          "output_type": "stream",
          "text": [
            "<class 'str'>\n",
            "integer typecasted is:  10\n",
            "<class 'str'>\n"
          ],
          "name": "stdout"
        }
      ]
    },
    {
      "cell_type": "code",
      "metadata": {
        "colab": {
          "base_uri": "https://localhost:8080/"
        },
        "id": "bDZE0cGjW2RG",
        "outputId": "ad97186b-4258-4725-e466-77b4ba855593"
      },
      "source": [
        "# switching from string to float\n",
        "\n",
        "print('float typecasted is: ', float(x))"
      ],
      "execution_count": null,
      "outputs": [
        {
          "output_type": "stream",
          "text": [
            "float typecasted is:  10.0\n"
          ],
          "name": "stdout"
        }
      ]
    },
    {
      "cell_type": "code",
      "metadata": {
        "id": "fcs8xu3PW9xA"
      },
      "source": [
        "# switching from string to list\n",
        "\n"
      ],
      "execution_count": null,
      "outputs": []
    },
    {
      "cell_type": "code",
      "metadata": {
        "colab": {
          "base_uri": "https://localhost:8080/"
        },
        "id": "ByWyHb2yXGGh",
        "outputId": "3401cdc4-3834-4d61-d09e-5f34a0b50d99"
      },
      "source": [
        "# switching from integer to string\n",
        "\n",
        "x = str(1) + '0'\n",
        "\n",
        "print('integer to string conversion: ', x)"
      ],
      "execution_count": null,
      "outputs": [
        {
          "output_type": "stream",
          "text": [
            "integer to string conversion:  10\n"
          ],
          "name": "stdout"
        }
      ]
    },
    {
      "cell_type": "code",
      "metadata": {
        "colab": {
          "base_uri": "https://localhost:8080/"
        },
        "id": "-tbNz0ceXS4O",
        "outputId": "da192471-34b3-44bf-f572-36d80bf62846"
      },
      "source": [
        "# switching from set to list\n",
        "\n",
        "s = set((1, 2, 3, 5, 8))\n",
        "list_s = list(s)\n",
        "\n",
        "print(list_s)"
      ],
      "execution_count": null,
      "outputs": [
        {
          "output_type": "stream",
          "text": [
            "[1, 2, 3, 5, 8]\n"
          ],
          "name": "stdout"
        }
      ]
    },
    {
      "cell_type": "code",
      "metadata": {
        "colab": {
          "base_uri": "https://localhost:8080/"
        },
        "id": "92FyE9vyXwgX",
        "outputId": "454d636d-090e-4687-c390-c8e2278d6f0b"
      },
      "source": [
        "# switching from a tuple to list\n",
        "\n",
        "tuples = ((1, 2), (1, 'Ginny'), (4, 'Hogwarts'))\n",
        "\n",
        "list_tup = list(tuples)\n",
        "print(list_tup)"
      ],
      "execution_count": null,
      "outputs": [
        {
          "output_type": "stream",
          "text": [
            "[(1, 2), (1, 'Ginny'), (4, 'Hogwarts')]\n"
          ],
          "name": "stdout"
        }
      ]
    },
    {
      "cell_type": "code",
      "metadata": {
        "id": "DuQxBYydX9hU"
      },
      "source": [
        "# swiching from a list to string\n",
        "\n"
      ],
      "execution_count": null,
      "outputs": []
    },
    {
      "cell_type": "code",
      "metadata": {
        "colab": {
          "base_uri": "https://localhost:8080/"
        },
        "id": "fI4hrIYfYLYK",
        "outputId": "af1d97af-09bb-4f57-c2cf-74485679a973"
      },
      "source": [
        "# ascii value of alpha numeric characters\n",
        "\n",
        "print(chr(120))"
      ],
      "execution_count": null,
      "outputs": [
        {
          "output_type": "stream",
          "text": [
            "x\n"
          ],
          "name": "stdout"
        }
      ]
    },
    {
      "cell_type": "code",
      "metadata": {
        "colab": {
          "base_uri": "https://localhost:8080/"
        },
        "id": "15IRjR0fYWuA",
        "outputId": "279a2fef-5634-40e5-cf52-0aed36dbc1a0"
      },
      "source": [
        "# string to ascii\n",
        "\n",
        "print(ord('x'))"
      ],
      "execution_count": null,
      "outputs": [
        {
          "output_type": "stream",
          "text": [
            "120\n"
          ],
          "name": "stdout"
        }
      ]
    },
    {
      "cell_type": "markdown",
      "metadata": {
        "id": "FOOWQ-hpYfDj"
      },
      "source": [
        "## Using in-built functions"
      ]
    },
    {
      "cell_type": "markdown",
      "metadata": {
        "id": "ptbOxtLzYkwt"
      },
      "source": [
        "### Using the `random` method\n",
        "\n",
        "This method is used to geenrate 'random' values or ranges depending on the requirement."
      ]
    },
    {
      "cell_type": "code",
      "metadata": {
        "colab": {
          "base_uri": "https://localhost:8080/"
        },
        "id": "Q2-bbLCQYYmo",
        "outputId": "95513949-9af4-42dd-bca0-d60ed8c62844"
      },
      "source": [
        "import random\n",
        "\n",
        "# adding the start and end paramaters\n",
        "\n",
        "print('Generating a random value: \\n')\n",
        "print(random.randint(6, 10))"
      ],
      "execution_count": null,
      "outputs": [
        {
          "output_type": "stream",
          "text": [
            "Generating a random value: \n",
            "\n",
            "7\n"
          ],
          "name": "stdout"
        }
      ]
    },
    {
      "cell_type": "markdown",
      "metadata": {
        "id": "dOhlnJ3cZOG_"
      },
      "source": [
        "### Using the `math` method\n",
        "\n",
        "You can use this method(/library) to make mathematical operations much easier."
      ]
    },
    {
      "cell_type": "code",
      "metadata": {
        "colab": {
          "base_uri": "https://localhost:8080/"
        },
        "id": "OLn6RTezZAQo",
        "outputId": "c1c84c19-fd87-4a9c-a1d2-0ed592f3ea34"
      },
      "source": [
        "import math\n",
        "\n",
        "print('Inbuilt constant pi', math.pi)\n",
        "print('The square root of 2209 will be: ', math.sqrt(2209))\n",
        "print('The floor value of 3.426 is: ', math.floor(3.426))"
      ],
      "execution_count": null,
      "outputs": [
        {
          "output_type": "stream",
          "text": [
            "Inbuilt constant pi 3.141592653589793\n",
            "The square root of 2209 will be:  47.0\n",
            "The floor value of 3.426 is:  3\n"
          ],
          "name": "stdout"
        }
      ]
    },
    {
      "cell_type": "markdown",
      "metadata": {
        "id": "AEeN-tSCaPun"
      },
      "source": [
        "### Using the `datetime` method\n",
        "\n",
        "Yeah, nothing fancy about it. Just does what the name mentions."
      ]
    },
    {
      "cell_type": "code",
      "metadata": {
        "colab": {
          "base_uri": "https://localhost:8080/"
        },
        "id": "17f721kKZp2s",
        "outputId": "4927b8f2-e6b0-4ad6-d269-b728401d1c1d"
      },
      "source": [
        "import datetime\n",
        "\n",
        "date = datetime.datetime.now()\n",
        "\n",
        "print(date)\n",
        "print(type(date))"
      ],
      "execution_count": null,
      "outputs": [
        {
          "output_type": "stream",
          "text": [
            "2021-06-10 17:08:04.345320\n",
            "<class 'datetime.datetime'>\n"
          ],
          "name": "stdout"
        }
      ]
    },
    {
      "cell_type": "markdown",
      "metadata": {
        "id": "Z-jk8S03aqlY"
      },
      "source": [
        "## Lists!"
      ]
    },
    {
      "cell_type": "code",
      "metadata": {
        "colab": {
          "base_uri": "https://localhost:8080/"
        },
        "id": "_9wnAlTpae_u",
        "outputId": "590b04f4-cfcd-4730-eb7f-1aac01e0eae6"
      },
      "source": [
        "# initializing a list\n",
        "list_1 = list()\n",
        "print()\n",
        "\n",
        "# the data type of the variable\n",
        "print('list_1: ', type(list_1))\n",
        "print('\\n')\n",
        "\n",
        "# a numeric list\n",
        "list_num = [1, 2, 3, 4]\n",
        "print('list_num: ', list_num)\n",
        "print('\\n')\n",
        "\n",
        "# list with objects\n",
        "list_object = ['1', '5', 347, '%', '^', 'Williamsburg']\n",
        "print('list_object: ', list_object)\n",
        "print('\\n')\n",
        "\n",
        "# The operations are automatically computed when mentioned inside the list\n",
        "list_operator = [1*2, 'art'+'ist', 10//2]\n",
        "print('list_operator: ',list_operator)"
      ],
      "execution_count": null,
      "outputs": [
        {
          "output_type": "stream",
          "text": [
            "\n",
            "list_1:  <class 'list'>\n",
            "\n",
            "\n",
            "list_num:  [1, 2, 3, 4]\n",
            "\n",
            "\n",
            "list_object:  ['1', '5', 347, '%', '^', 'Williamsburg']\n",
            "\n",
            "\n",
            "list_operator:  [2, 'artist', 5]\n"
          ],
          "name": "stdout"
        }
      ]
    },
    {
      "cell_type": "markdown",
      "metadata": {
        "id": "UM8zUVyNboCx"
      },
      "source": [
        "### Accessing the values from a list\n",
        "\n",
        "**Fun fact:** Python does allow negative indexing!"
      ]
    },
    {
      "cell_type": "code",
      "metadata": {
        "colab": {
          "base_uri": "https://localhost:8080/"
        },
        "id": "5gwYaHT0bZPC",
        "outputId": "4aab6d17-2beb-4ec8-93c3-24a2c9de4d59"
      },
      "source": [
        "print(list_object)\n",
        "\n",
        "print('First element: ',list_object[0])"
      ],
      "execution_count": null,
      "outputs": [
        {
          "output_type": "stream",
          "text": [
            "['1', '5', 347, '%', '^', 'Williamsburg']\n",
            "First element:  1\n"
          ],
          "name": "stdout"
        }
      ]
    },
    {
      "cell_type": "code",
      "metadata": {
        "colab": {
          "base_uri": "https://localhost:8080/"
        },
        "id": "9ipofY0Fb0U1",
        "outputId": "ea0fa508-2ea1-4957-bae1-6be946958d1b"
      },
      "source": [
        "# executing all the values from the beginning to the end\n",
        "\n",
        "print(list_object[2:])"
      ],
      "execution_count": null,
      "outputs": [
        {
          "output_type": "stream",
          "text": [
            "[347, '%', '^', 'Williamsburg']\n"
          ],
          "name": "stdout"
        }
      ]
    },
    {
      "cell_type": "code",
      "metadata": {
        "colab": {
          "base_uri": "https://localhost:8080/"
        },
        "id": "xKJh-xDab_Bc",
        "outputId": "bab90b33-694a-45de-ae14-ac534100c691"
      },
      "source": [
        "# let's say that we want we to skip a few values in between\n",
        "\n",
        "print(list_object[0:6:3])"
      ],
      "execution_count": null,
      "outputs": [
        {
          "output_type": "stream",
          "text": [
            "['1', '%']\n"
          ],
          "name": "stdout"
        }
      ]
    },
    {
      "cell_type": "code",
      "metadata": {
        "colab": {
          "base_uri": "https://localhost:8080/"
        },
        "id": "vZrPD263cJ5r",
        "outputId": "afc03081-ce83-4aea-9375-f90c2208b701"
      },
      "source": [
        "# negative ranges\n",
        "\n",
        "print(list_object[-4:])"
      ],
      "execution_count": null,
      "outputs": [
        {
          "output_type": "stream",
          "text": [
            "[347, '%', '^', 'Williamsburg']\n"
          ],
          "name": "stdout"
        }
      ]
    },
    {
      "cell_type": "markdown",
      "metadata": {
        "id": "L0V-j6SucW38"
      },
      "source": [
        "### Modifying lists"
      ]
    },
    {
      "cell_type": "code",
      "metadata": {
        "colab": {
          "base_uri": "https://localhost:8080/"
        },
        "id": "vkWrEGdhcOaY",
        "outputId": "2939d372-393c-4221-f601-d6ebfe9d393b"
      },
      "source": [
        "# make changes in the list\n",
        "\n",
        "list_object.extend([0, 1.2])\n",
        "print(list_object)\n",
        "\n",
        "\n",
        "# make range of values changes\n",
        "\n",
        "subset_items = [10, 6, 20, 21]\n",
        "list_object[0:4] = subset_items\n",
        "print(list_object)"
      ],
      "execution_count": null,
      "outputs": [
        {
          "output_type": "stream",
          "text": [
            "['1', '5', 347, '%', '^', 'Williamsburg', 0, 1.2]\n",
            "[10, 6, 20, 21, '^', 'Williamsburg', 0, 1.2]\n"
          ],
          "name": "stdout"
        }
      ]
    },
    {
      "cell_type": "code",
      "metadata": {
        "colab": {
          "base_uri": "https://localhost:8080/"
        },
        "id": "gVXZXxmRc_h5",
        "outputId": "5cb1cec2-1b97-46f3-fc35-f21188aa418c"
      },
      "source": [
        "# skipping changes\n",
        "\n",
        "subset = ['2', '1062021', '12']\n",
        "list_object[0:5:2] = subset\n",
        "print(list_object)"
      ],
      "execution_count": null,
      "outputs": [
        {
          "output_type": "stream",
          "text": [
            "['2', 6, '1062021', 21, '12', 'Williamsburg', 0, 1.2]\n"
          ],
          "name": "stdout"
        }
      ]
    },
    {
      "cell_type": "code",
      "metadata": {
        "colab": {
          "base_uri": "https://localhost:8080/"
        },
        "id": "sV2V_Y_qdD9I",
        "outputId": "8219e68c-6865-429a-ce4a-f00f12d3a0bb"
      },
      "source": [
        "# delete an element\n",
        "\n",
        "list_object = [1, 2, 12, 12, 12, 3, 4, 5, 6]\n",
        "\n",
        "# can be used as a stack and/or a queue\n",
        "\n",
        "list_object.pop(0) #queue\n",
        "list_object.pop() #stack\n",
        "list_object.pop(3) #index\n",
        "print(list_object)"
      ],
      "execution_count": null,
      "outputs": [
        {
          "output_type": "stream",
          "text": [
            "[2, 12, 12, 3, 4, 5]\n"
          ],
          "name": "stdout"
        }
      ]
    },
    {
      "cell_type": "markdown",
      "metadata": {
        "id": "mEAUkcSHdd0b"
      },
      "source": [
        "What do we do if there is an error while removing a value from the list and the list is empty?"
      ]
    },
    {
      "cell_type": "code",
      "metadata": {
        "id": "0RVeKOizdQqL"
      },
      "source": [
        "# we use the try except functionality\n",
        "\n",
        "try:\n",
        "  list_object.remove(10)\n",
        "except:\n",
        "  print('Element not in list')\n",
        "print(list_object)"
      ],
      "execution_count": null,
      "outputs": []
    },
    {
      "cell_type": "markdown",
      "metadata": {
        "id": "BC8M5ZqudzqK"
      },
      "source": [
        "## The `for` loop"
      ]
    },
    {
      "cell_type": "code",
      "metadata": {
        "id": "eVnWXhDfdq7V"
      },
      "source": [
        "for i in range(0,5):\n",
        "  print(i, end = ' ')"
      ],
      "execution_count": null,
      "outputs": []
    },
    {
      "cell_type": "code",
      "metadata": {
        "id": "BDA6B-C9fNI7"
      },
      "source": [
        "print('Adding the step parameter ')\n",
        "\n",
        "for i in range(10,2,-2):\n",
        "  print(i,end= ' ')"
      ],
      "execution_count": null,
      "outputs": []
    },
    {
      "cell_type": "code",
      "metadata": {
        "id": "-HopnRQRfSq8"
      },
      "source": [
        "print('Printing the values in the format of a list ')\n",
        "\n",
        "sums = [1,1,3,5]\n",
        "for number in sums:\n",
        "  print(number)"
      ],
      "execution_count": null,
      "outputs": []
    },
    {
      "cell_type": "code",
      "metadata": {
        "id": "ZyhGZlSufaUZ"
      },
      "source": [
        "print('One-line for loop')\n",
        "\n",
        "sum_upto_10 = [i for i in range(11)]\n",
        "print(sum_upto_10)"
      ],
      "execution_count": null,
      "outputs": []
    },
    {
      "cell_type": "code",
      "metadata": {
        "id": "U8xDb2JEfhG_"
      },
      "source": [
        "print('One-linear nested for loop Matrix Multiplication')\n",
        "\n",
        "matrix_mul = [j*i for i in range(5) for j in range(5,10)]\n",
        "print('Matrix Looks like: ', matrix_mul)"
      ],
      "execution_count": null,
      "outputs": []
    },
    {
      "cell_type": "code",
      "metadata": {
        "id": "T3mYXwOpfuqX"
      },
      "source": [
        "a = ['Hello', 'world', '!']\n",
        "\n",
        "# iterable method 1\n",
        "print('Iterable Method 1: ')\n",
        "for i in range(len(a)):\n",
        "  print(i,a[i])\n",
        "\n",
        "# iterable method 2\n",
        "print('\\nIterable Method 2: ')\n",
        "for i in a:\n",
        "  print(i)\n",
        "\n",
        "# (iterable?) method 3\n",
        "print('\\nMethod 3: ')\n",
        "print(list(enumerate(a)))"
      ],
      "execution_count": null,
      "outputs": []
    },
    {
      "cell_type": "markdown",
      "metadata": {
        "id": "Ak9F4uRrg0n4"
      },
      "source": [
        "## Functions\n",
        "\n",
        "To define a function, use the `def` keyword followed by the name of the function with attributes."
      ]
    },
    {
      "cell_type": "code",
      "metadata": {
        "id": "048vzN1Ggkbg"
      },
      "source": [
        "def fizzBuzz():\n",
        "  \n",
        "  '''\n",
        "  Given a range print Fizz if divisible by 3, Buzz if divisible by 5 else FizzBuzz if divisible by 3 and 5\n",
        "  '''\n",
        "\n",
        "  n = int(input('Enter a number: '))\n",
        "  count = 1\n",
        "  while (count <= n):\n",
        "    string = ''\n",
        "    if (count %3 == 0):\n",
        "      string = 'Fizz'\n",
        "    if (count % 5 == 0):\n",
        "      string += 'Buzz'\n",
        "    print(count,string)\n",
        "    count +=1\n",
        "    \n",
        "fizzBuzz()"
      ],
      "execution_count": null,
      "outputs": []
    },
    {
      "cell_type": "code",
      "metadata": {
        "id": "xKoVLslfhIwF"
      },
      "source": [
        "def fizzBuzz():\n",
        "  \n",
        "  '''\n",
        "  Same function as above with more if else conditions.\n",
        "  '''\n",
        "  \n",
        "  n = int(input('Enter a number: '))\n",
        "  count = 1\n",
        "  while(count <= n):\n",
        "    if (count % 5 == 0 and count % 3 == 0):\n",
        "      print(count,'Fizz Buzz')\n",
        "    elif (count % 3 == 0):\n",
        "      print(count,'Fizz')\n",
        "    elif (count % 5 == 0):\n",
        "      print(count,'Buzz')\n",
        "    else:\n",
        "      print(count)\n",
        "    count +=1\n",
        "\n",
        "fizzBuzz()"
      ],
      "execution_count": null,
      "outputs": []
    },
    {
      "cell_type": "markdown",
      "metadata": {
        "id": "Hej1NI9LjM_U"
      },
      "source": [
        "## Dictionaries\n",
        "\n",
        "In the case of dictionaries, we use `key` and not indexes to refer elements in the dictionary."
      ]
    },
    {
      "cell_type": "code",
      "metadata": {
        "id": "zuUqQDD4hVVI"
      },
      "source": [
        "# creating an empty dictionary\n",
        "dict_ = {}\n",
        "\n",
        "#dict_ = {key:value,key:value} \n",
        "# keys have to be in a set i.e., they are to be unique\n",
        "\n",
        "string = 'iamdictionaryiteratemeandseethefun'\n",
        "\n",
        "for ch in string:\n",
        "  if (ch in dict_):\n",
        "    dict_[ch] +=1\n",
        "\n",
        "  else:\n",
        "    dict_[ch] = 1\n",
        "\n",
        "for k,v in dict_.items():\n",
        "  # pass\n",
        "  print(f'Character {k} and its count {v}')"
      ],
      "execution_count": null,
      "outputs": []
    },
    {
      "cell_type": "markdown",
      "metadata": {
        "id": "6_elLpZ6kiK8"
      },
      "source": [
        "**NOTE:** If we try updating for a key that is present the original value will be overwritten"
      ]
    },
    {
      "cell_type": "code",
      "metadata": {
        "id": "sN67bR2IkhBg"
      },
      "source": [
        "# print value for some key\n",
        "\n",
        "# Hint: use .get or check for existence before access to avoid error like below\n",
        "\n",
        "print(dict_['z'])"
      ],
      "execution_count": null,
      "outputs": []
    },
    {
      "cell_type": "code",
      "metadata": {
        "id": "gkgH5jCblKe0"
      },
      "source": [
        "print(dict_.get('z'))"
      ],
      "execution_count": null,
      "outputs": []
    },
    {
      "cell_type": "markdown",
      "metadata": {
        "id": "WKesksqVnpSm"
      },
      "source": [
        "## Sorting\n",
        "\n",
        "For sorting a list, the data type of all the elements should be the same."
      ]
    },
    {
      "cell_type": "code",
      "metadata": {
        "id": "bZQltNt8lN0s"
      },
      "source": [
        "list_ = ['a','3232','21332','bsaa','87','3231']\n",
        "print(list_)\n",
        "\n",
        "print('\\nAscending order: ')\n",
        "\n",
        "# the sorting is done only for the first character\n",
        "result = []\n",
        "for i in list_:\n",
        "  sum_ = 0\n",
        "  for j in i:\n",
        "    sum_ = ord(j)\n",
        "    break\n",
        "  result.append(sum_)\n",
        "\n",
        "# it checks the first character of the string\n",
        "# if there is a match, it proceeds further\n",
        "print('Before sorting')\n",
        "print(list_)\n",
        "print(result)\n",
        "\n",
        "print('---------------')\n",
        "print('After sorting')\n",
        "list_.sort()\n",
        "result.sort()\n",
        "print(list_)\n",
        "print(result)"
      ],
      "execution_count": null,
      "outputs": []
    },
    {
      "cell_type": "markdown",
      "metadata": {
        "id": "RHL7DdFyobhP"
      },
      "source": [
        "### Difference between `sort()` and `sorted()`\n",
        "\n",
        "`sort()` function will modify the list it is called on. The function modifies/sorts the list in-place and has no return value.\n",
        "\n",
        "On the other hand, `sorted()` function will create a new list containing a sorted version of the list it is given."
      ]
    },
    {
      "cell_type": "code",
      "metadata": {
        "id": "f62xRfAAoRsc"
      },
      "source": [
        "a = [1,3,2]\n",
        "print('a: ', a)\n",
        "b = sorted(a)\n",
        "print('a after sorted(): ',a)\n",
        "print('\\nb: ', b)\n",
        "a.sort()\n",
        "print('a after sort(): ', a)"
      ],
      "execution_count": null,
      "outputs": []
    },
    {
      "cell_type": "markdown",
      "metadata": {
        "id": "Qc_uhmN7o9wf"
      },
      "source": [
        "## `lambda` functions in Python"
      ]
    },
    {
      "cell_type": "code",
      "metadata": {
        "id": "CuLsIVTpourk"
      },
      "source": [
        "add = lambda a, b, c: a+b+c\n",
        "print(add(5, 6, 2))"
      ],
      "execution_count": null,
      "outputs": []
    },
    {
      "cell_type": "code",
      "metadata": {
        "id": "NakEwD_bpFKh"
      },
      "source": [
        "dictonary = {67:\"Jay\", 23:\"Luke\", 12:\"Manny\", 45:\"Gloria\", 11:\"Lily\", 73:\"Alex\", 99:\"Phil\"}\n",
        "\n",
        "# sort the tuple on values\n",
        "tuples  = sorted(dictonary.items(), key = lambda x:(x[1],x[0]), reverse=False)\n",
        "print('\\nSorted on values')\n",
        "for elements in tuples:\n",
        "    print(elements[0],\"::\",elements[1])"
      ],
      "execution_count": null,
      "outputs": []
    },
    {
      "cell_type": "code",
      "metadata": {
        "id": "zuIdrS6gpve2"
      },
      "source": [
        ""
      ],
      "execution_count": null,
      "outputs": []
    }
  ]
}